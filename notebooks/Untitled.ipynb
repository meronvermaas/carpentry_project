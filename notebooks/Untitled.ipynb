{
 "cells": [
  {
   "cell_type": "code",
   "execution_count": 3,
   "id": "fb56eba2-cf5a-42f4-a5df-451ff7209a47",
   "metadata": {
    "scrolled": true
   },
   "outputs": [
    {
     "data": {
      "text/plain": [
       "'#!/usr/bin/env python\\n# coding: utf-8\\n\\n# # For loops\\n# \\n# Loops are a way of doing the same thing multiple times on a collection (like a list). \\n# \\n# Suppose we wanted to add 1 to every value in a list. \\n# \\n\\n# In[6]:\\n\\n\\nmy_ages = [45, 23, 81]\\n\\n\\n# In[3]:\\n\\n\\nprint(my_ages[0]+1)\\n\\n\\n# In[4]:\\n\\n\\nprint(my_ages[1]+2)\\n\\n\\n# This is obviously not efficient, even for short lists. We can instead use a `for` loop\\n# \\n# A `for` loop starts with the *keyword* for, followed by the name of the variable that will be changed with every loop, then `in` and the name of the variable that you want to loop through (*iterator variable*) and a colon `:`. Code is then written in an indented block (4 spaces or a tab in front of each line in the block)\\n\\n# In[5]:\\n\\n\\nfor age in my_ages:\\n    print(age, my_ages)\\n\\n\\n# In[77]:\\n\\n\\nfor age in my_ages:\\n    print(age+1) # perform a calculation\\n\\n\\n# ### Notes about iterator variables\\n# \\n# The *iterator variable* can be named whatever you like, but it is best to name them sensibly.\\n\\n# In[78]:\\n\\n\\nfor bananas in my_ages:\\n    print(bananas)#bananas??\\n\\n\\n# It should be noted that using the same name for the iterator variable as an existing variable will overwrite it.\\n\\n# In[79]:\\n\\n\\n# Define age\\nage = 42\\nprint(age)\\n\\n\\n# In[80]:\\n\\n\\n# Also use age as an iterator variable\\nfor age in my_ages:\\n    print(age)\\n\\n\\n# In[81]:\\n\\n\\n# Age has been replaced by the last value of age in the loop\\nprint(age)\\n\\n\\n# The fact that the iterator variable is accessible outside the loop can be useful for bugfixing\\n\\n# In[82]:\\n\\n\\n# This will throw an error when it tries to add 1 to banana\\n#for age in [1, 2, \"banana\", 4]:\\n#    print(age+1)\\n\\n\\n# After an error we could print the value of our iterator variable (age) to see what the value was when the code crashed\\n\\n# In[83]:\\n\\n\\n#print(age)\\n\\n\\n# ### Indentations are important\\n# \\n# Indentations are very important. Only indented lines are considered part of the loop. \\n\\n# In[84]:\\n\\n\\n# All lines indented.\\nmy_ages = [1, 2, 3, 4]\\nfor age in my_ages:\\n    print(age)\\n    print(age+2)\\n    print(\"Finished printing age \",age)\\n\\n\\n# In[85]:\\n\\n\\n# the final age+2 is not contained within the loop, so is executed afterwards.\\nmy_ages = [1, 2, 3, 4]\\nfor age in my_ages:\\n    print(age)\\n    print(\"Finished printing age \",age)\\nprint(\"loop over\")\\nprint(age+2) # Not in the loop, just whatever the final value of age was,+2\\n\\n\\n\\n# ### Getting values out of a loop\\n# \\n# Printing values in a loop is nice, and a good thing to do to see how your code is running. However it is likely you want to save the results of calculations inside the loop.\\n\\n# In[86]:\\n\\n\\nmy_ages = [54, 34, 23, 45] #what we will loop through\\nmy_ages_next_year = [] #empty list to store results in\\n\\nprint(\"Start length: \",len(my_ages_next_year))#print the starting length of our results list\\nfor age in my_ages:\\n    new_age = age + 1 #calculate and store result in variable\\n    print(new_age) #print calculation result\\n    my_ages_next_year.append(new_age) #add result of calculation to results list\\n    print(\"New length: \",len(my_ages_next_year))#print the starting length of our results list\\n\\nprint(my_ages_next_year) #print results\\n\\n\\n\\n# In[87]:\\n\\n\\n# List of words\\nwords = [\"red\", \"green\", \"blue\"]\\n\\n# Using loops, \\n# calculate the length of each word\\n# If you feel confident,\\n# Store the lengths in a list\\nword_lengths = []\\nfor word in words:\\n    word_len = len(word)\\n    print(word_len)\\n    word_lengths.append(word_len)\\n    \\nprint (word_lengths)\\n\\n\\n# ### Ranges to generate number sequences\\n# If we want to generate a sequence of numbers, we can use the range function\\n\\n# In[88]:\\n\\n\\nfor number in range(10):\\n    print(number)\\n\\n\\n# Range starts from 0 by default, and the second value is not inclusive. So if we want 1 to 10:\\n\\n# In[89]:\\n\\n\\nfor number in range(1,11):\\n    print(number)\\n\\n\\n# In[90]:\\n\\n\\nmy_range = range(1, 11)\\n\\n\\n# In[91]:\\n\\n\\nprint(my_range) # Not a list\\n\\nfor number in my_range:\\n    print(number)\\n\\n\\n# ### Accumulator pattern\\n# A different way of storing the results of a loop in a single value\\n\\n# In[92]:\\n\\n\\nmy_word = \"Lithium\"\\n#Loop through and print \\n# every letter in this word\\n# Calculate word length without using len\\n\\n# Create a variable to count the length of the word\\nlength_word = 0\\n\\nfor letter in my_word:\\n    print(letter)\\n    # Calculate length_word + 1\\n    new_value = length_word + 1\\n    # Replace length_word with the new value (length_word + 1)\\n    length_word = new_value\\n    # length_word will increase in size by 1 every loop.\\n\\nprint (\"length of word is\",length_word)\\n\\n\\n\\n# In[ ]:\\n\\n\\n\\n\\n'"
      ]
     },
     "execution_count": 3,
     "metadata": {},
     "output_type": "execute_result"
    }
   ],
   "source": [
    "open(\"Loops.py\").read()"
   ]
  },
  {
   "cell_type": "code",
   "execution_count": 4,
   "id": "67b7d5cc-3083-4308-a561-f1b0f1ad198c",
   "metadata": {},
   "outputs": [
    {
     "name": "stdout",
     "output_type": "stream",
     "text": [
      "46\n",
      "25\n",
      "45 [45, 23, 81]\n",
      "23 [45, 23, 81]\n",
      "81 [45, 23, 81]\n",
      "46\n",
      "24\n",
      "82\n",
      "45\n",
      "23\n",
      "81\n",
      "42\n",
      "45\n",
      "23\n",
      "81\n",
      "81\n",
      "1\n",
      "3\n",
      "Finished printing age  1\n",
      "2\n",
      "4\n",
      "Finished printing age  2\n",
      "3\n",
      "5\n",
      "Finished printing age  3\n",
      "4\n",
      "6\n",
      "Finished printing age  4\n",
      "1\n",
      "Finished printing age  1\n",
      "2\n",
      "Finished printing age  2\n",
      "3\n",
      "Finished printing age  3\n",
      "4\n",
      "Finished printing age  4\n",
      "loop over\n",
      "6\n",
      "Start length:  0\n",
      "55\n",
      "New length:  1\n",
      "35\n",
      "New length:  2\n",
      "24\n",
      "New length:  3\n",
      "46\n",
      "New length:  4\n",
      "[55, 35, 24, 46]\n",
      "3\n",
      "5\n",
      "4\n",
      "[3, 5, 4]\n",
      "0\n",
      "1\n",
      "2\n",
      "3\n",
      "4\n",
      "5\n",
      "6\n",
      "7\n",
      "8\n",
      "9\n",
      "1\n",
      "2\n",
      "3\n",
      "4\n",
      "5\n",
      "6\n",
      "7\n",
      "8\n",
      "9\n",
      "10\n",
      "range(1, 11)\n",
      "1\n",
      "2\n",
      "3\n",
      "4\n",
      "5\n",
      "6\n",
      "7\n",
      "8\n",
      "9\n",
      "10\n",
      "L\n",
      "i\n",
      "t\n",
      "h\n",
      "i\n",
      "u\n",
      "m\n",
      "length of word is 7\n"
     ]
    }
   ],
   "source": [
    "exec(open(\"Loops.py\").read())"
   ]
  },
  {
   "cell_type": "code",
   "execution_count": null,
   "id": "ba37cc9c-39c3-4406-8776-0c654a3ebec9",
   "metadata": {},
   "outputs": [],
   "source": []
  }
 ],
 "metadata": {
  "kernelspec": {
   "display_name": "Python 3 (ipykernel)",
   "language": "python",
   "name": "python3"
  },
  "language_info": {
   "codemirror_mode": {
    "name": "ipython",
    "version": 3
   },
   "file_extension": ".py",
   "mimetype": "text/x-python",
   "name": "python",
   "nbconvert_exporter": "python",
   "pygments_lexer": "ipython3",
   "version": "3.12.5"
  }
 },
 "nbformat": 4,
 "nbformat_minor": 5
}
