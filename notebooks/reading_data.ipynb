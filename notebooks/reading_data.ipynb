{
 "cells": [
  {
   "cell_type": "code",
   "execution_count": 1,
   "id": "58bb081a-ea92-4648-a195-2bdf89535a0f",
   "metadata": {},
   "outputs": [],
   "source": [
    "# importing external functionality using libraries/modules"
   ]
  },
  {
   "cell_type": "code",
   "execution_count": 2,
   "id": "4d7ab758-c430-422b-9e6d-9d0330cbbaa9",
   "metadata": {},
   "outputs": [],
   "source": [
    "import pandas"
   ]
  },
  {
   "cell_type": "code",
   "execution_count": null,
   "id": "39d04b85-2af2-4920-8b79-5e38212c767d",
   "metadata": {},
   "outputs": [],
   "source": [
    "# alias\n",
    "import pandas as pd"
   ]
  },
  {
   "cell_type": "code",
   "execution_count": null,
   "id": "97a6b9d7-a3c7-417b-9c67-a2695ca5474f",
   "metadata": {},
   "outputs": [],
   "source": [
    "help(pd.read_csv)"
   ]
  },
  {
   "cell_type": "markdown",
   "id": "0dd11fae-73c9-4f87-a7af-bfd40eca78af",
   "metadata": {},
   "source": [
    "# Read data from csv"
   ]
  },
  {
   "cell_type": "code",
   "execution_count": null,
   "id": "562530ec-0437-4701-8e0e-dceac971110f",
   "metadata": {},
   "outputs": [],
   "source": [
    "data = pd.read_csv(\"../data/gapminder_gdp_oceania.csv\")"
   ]
  },
  {
   "cell_type": "code",
   "execution_count": null,
   "id": "f9b6e471-b1f6-4d60-8c06-e62c1a91f14b",
   "metadata": {},
   "outputs": [],
   "source": [
    "data"
   ]
  },
  {
   "cell_type": "code",
   "execution_count": null,
   "id": "350ffadb-0f08-466b-92ea-5f8196a213ea",
   "metadata": {},
   "outputs": [],
   "source": [
    "print(data)"
   ]
  },
  {
   "cell_type": "code",
   "execution_count": null,
   "id": "860eb9ff-a103-45cc-8691-4d08bc2bdcec",
   "metadata": {},
   "outputs": [],
   "source": [
    "data"
   ]
  },
  {
   "cell_type": "code",
   "execution_count": null,
   "id": "0f7b71d3-2e47-451d-98b7-868ee4b0f06e",
   "metadata": {},
   "outputs": [],
   "source": [
    "data = pd.read_csv(\"../data/gapminder_gdp_oceania.csv\", index_col=\"country\")"
   ]
  },
  {
   "cell_type": "code",
   "execution_count": null,
   "id": "41797d2e-2b65-4809-b6a7-2828436a8787",
   "metadata": {},
   "outputs": [],
   "source": [
    "data"
   ]
  },
  {
   "cell_type": "code",
   "execution_count": null,
   "id": "d66496ad-d860-4d74-aa54-4ff8ee956e46",
   "metadata": {},
   "outputs": [],
   "source": [
    "data.info()"
   ]
  },
  {
   "cell_type": "code",
   "execution_count": null,
   "id": "5046d95f-9ee7-4a57-89eb-9743f34250fb",
   "metadata": {},
   "outputs": [],
   "source": [
    "data.columns"
   ]
  },
  {
   "cell_type": "code",
   "execution_count": null,
   "id": "9fb05bea-6ad9-468d-9a8a-56e01d463dde",
   "metadata": {},
   "outputs": [],
   "source": [
    "pd.read_csv(\"../data/gapminder_gdp_oceania.csv\")"
   ]
  },
  {
   "cell_type": "code",
   "execution_count": null,
   "id": "4723ea28-ce44-4d6e-a0f9-3074a24c7fc6",
   "metadata": {},
   "outputs": [],
   "source": [
    "data.T"
   ]
  },
  {
   "cell_type": "code",
   "execution_count": null,
   "id": "5d43d254-20b7-4db7-b044-b916a36e4d70",
   "metadata": {},
   "outputs": [],
   "source": [
    "data.plot()"
   ]
  },
  {
   "cell_type": "code",
   "execution_count": null,
   "id": "33a7e17f-50bc-4dd5-90c6-cf52090338d0",
   "metadata": {},
   "outputs": [],
   "source": [
    "data.T.plot()"
   ]
  },
  {
   "cell_type": "markdown",
   "id": "8f2141a9-890c-4944-9d1b-f9f770c73834",
   "metadata": {},
   "source": [
    "# Exercise\n",
    "\n",
    "- Read the dataset for Europe\n",
    "- data.describe()\n",
    "- data.head(), data.tail()"
   ]
  },
  {
   "cell_type": "code",
   "execution_count": null,
   "id": "053b37ed-89c4-4315-a642-5534e37684c2",
   "metadata": {},
   "outputs": [],
   "source": [
    "ages = [1,2,3]"
   ]
  },
  {
   "cell_type": "code",
   "execution_count": null,
   "id": "7a092047-7526-422a-919f-0c1f02657214",
   "metadata": {},
   "outputs": [],
   "source": [
    "ages.append(4)"
   ]
  },
  {
   "cell_type": "code",
   "execution_count": null,
   "id": "b6fb66bf-395e-407e-b1be-1c49a896cd3e",
   "metadata": {},
   "outputs": [],
   "source": [
    "data.info()\n",
    "print()"
   ]
  },
  {
   "cell_type": "code",
   "execution_count": null,
   "id": "e70bf273-40ec-49f5-beb0-08d0d2c66b75",
   "metadata": {},
   "outputs": [],
   "source": []
  }
 ],
 "metadata": {
  "kernelspec": {
   "display_name": "Python 3 (ipykernel)",
   "language": "python",
   "name": "python3"
  },
  "language_info": {
   "codemirror_mode": {
    "name": "ipython",
    "version": 3
   },
   "file_extension": ".py",
   "mimetype": "text/x-python",
   "name": "python",
   "nbconvert_exporter": "python",
   "pygments_lexer": "ipython3",
   "version": "3.13.0"
  }
 },
 "nbformat": 4,
 "nbformat_minor": 5
}
